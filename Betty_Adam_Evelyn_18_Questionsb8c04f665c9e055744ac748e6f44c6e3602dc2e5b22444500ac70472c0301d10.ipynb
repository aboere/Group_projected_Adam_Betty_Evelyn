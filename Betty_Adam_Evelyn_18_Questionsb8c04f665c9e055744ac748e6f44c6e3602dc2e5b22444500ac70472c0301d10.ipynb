{
  "cells": [
    {
      "cell_type": "markdown",
      "source": [
        "----\n",
        "**1. &#x1F5A9;\n",
        "What will the wavelength of a scattered photon be when observed at 90 degrees to an incident X-ray of 90 pm?**\n",
        "\n",
        "**Answer:** 9.242631024e-11"
      ],
      "metadata": {
        "id": "ECbngsu0oenj"
      }
    },
    {
      "cell_type": "markdown",
      "metadata": {
        "id": "0B-dc3wWyo7R"
      },
      "source": [
        "----\n",
        "**2. &#x1f3b2; What is the equation that you would use to compute the probability of observing an electron at the center of a box if it contained 2 electrons?**\n",
        "\n",
        "\n",
        "\n",
        "\n",
        "| | |\n",
        "| --| --|\n",
        "\n",
        " **A.** $$\n",
        " |\\psi(\\frac{a}{2})|^2 = \\left( \\frac{2}{a} \\sin^2\\left(\\frac{n\\pi}{2}\\right) \\right)*2\n",
        "$$\n",
        "\n",
        " **B.** $$\n",
        "|\\psi(\\frac{a}{2})|^2 = \\left (\\frac{2}{a} \\sin^2\\left(\\frac{n\\pi}{2}\\right) \\right)\n",
        "$$\n",
        "\n",
        " **C.** $$\n",
        "|\\psi(\\frac{a}{2})|^2 = \\left (\\sqrt{\\frac{2}{a}}\\ \\sin^2\\left(\\frac{n\\pi}{2}\\right) \\right)\n",
        "$$\n",
        "\n",
        " **D.** $$\n",
        "|\\psi(\\frac{a}{2})|^2 = \\left( \\frac{2}{a} \\sin^2\\left(\\frac{n\\pi}{2}\\right) \\right)*4\n",
        "$$\n",
        "\n",
        "\n",
        "\n",
        "\n",
        "**Answer:** A"
      ]
    },
    {
      "cell_type": "markdown",
      "metadata": {
        "id": "B_d6miDCyo7S"
      },
      "source": [
        "------\n",
        "\n",
        "\n",
        "\n",
        "**3. &#x1f9ee;** Let $z = 5 + 12i$. The magnitude of Z denoted as:\n",
        "\n",
        "$$\n",
        "|Z| = \\sqrt{Z \\cdot Z^*}\n",
        "$$\n",
        "\n",
        " **Calculate |Z|. Write you answer as a #.\n",
        "\n",
        "**Answer:** 13"
      ]
    },
    {
      "cell_type": "markdown",
      "source": [
        "-----\n",
        "**4.  &#x1fa99; The separation of variables technique can be applied when the Hamiltonian can be written as a sum of independent terms for each coordinate.. (True/False)**\n",
        "\n",
        "**Answer:** True"
      ],
      "metadata": {
        "id": "oiR1YPwfooeC"
      }
    },
    {
      "cell_type": "markdown",
      "source": [
        "-----\n",
        "\n",
        "**5. &#x1f500; Assign the following Postulates of Quantum Mechanics to the principle most strongly associated with them.**\n",
        "\n",
        "|Postulate|Principle|\n",
        "|--|--|\n",
        "|**A.** Completeness | **1.** $$ |Ψ(x,t)|^2 $$\n",
        "|**B.** Schrodinger Postulate |**2.** Every observable operator has an associated Hermetian\n",
        "|**C.** Born Postulate| **3.** Ψ --> everything|\n",
        "|**D.** Correspondace Principle| **4.** $$\\hat{H}Ψ(x,t) = \\hat{H}ΨEΨ$$\n",
        "\n",
        "**Answer:** A,3,B,4,C,1,D,2"
      ],
      "metadata": {
        "id": "Evtraz7QoqKN"
      }
    },
    {
      "cell_type": "markdown",
      "source": [
        "-----\n",
        "**6.  &#x1fa99; Seperation of varibles can be applied when solving a one electron system if you are in cartesian coordinates? (True/False)**\n",
        "\n",
        "**Answer:** False"
      ],
      "metadata": {
        "id": "b9amGzcropL-"
      }
    },
    {
      "cell_type": "markdown",
      "source": [
        "**7.**<br>\n",
        "**An X ray diffraction experiment is performed on a square crystal lattice whose diffraction pattern is predict by Bragg's law. Using a 1 nm laser the angle between two maximum was 7 degrees. Assuming first order diffraction what is the distance between atoms in the crystals (in Angstrom)?** <br>\n",
        "**Answer:** 41.02754524"
      ],
      "metadata": {
        "id": "7gmLOrq5rFsB"
      }
    },
    {
      "cell_type": "markdown",
      "source": [
        "**8.**<br>\n",
        "**How many spherical harmonics exist for L=3?**<br>\n",
        "**A.** 10 <br>\n",
        "**B.** 11 <br>\n",
        "**C.** 7 <br>\n",
        "**D.** 3 <br>\n",
        "**E.** 28 <br>\n",
        "**Answer:** C"
      ],
      "metadata": {
        "id": "1WHQXvu2rP52"
      }
    },
    {
      "cell_type": "markdown",
      "source": [
        "**9.**<br> **What is the normalization constant for a slater determinant of a 3 electron system**<br>\n",
        "**A.** $$ \\frac{1}{\\sqrt{6}} $$ <br>\n",
        "**B.** $$ \\frac{3}{\\sqrt{6}} $$<br>\n",
        "**C.** $$ \\frac{1}{\\sqrt{3}} $$ <br>\n",
        "**D.** $$ \\frac{3}{7} $$<br>\n",
        "**E.** $$ \\frac{1}{3} $$<br>\n",
        "**Answer:** A"
      ],
      "metadata": {
        "id": "dsLGG9WvrWeS"
      }
    },
    {
      "cell_type": "markdown",
      "source": [
        "**10.**<br>\n",
        "**What happens if two rows are swapped in a Slater determinant?**<br>\n",
        "**A.** The sign of the determinant changes <br>\n",
        "**B.** Nothing changes about the determinant <br>\n",
        "**C.** If two rows are swapped the determinant yields a value of 0 <br>\n",
        "**D.** The determinant doubles in value <br>\n",
        "**Answer:** A"
      ],
      "metadata": {
        "id": "DbpMtG4drcCv"
      }
    },
    {
      "cell_type": "markdown",
      "source": [
        "**11.**<br>\n",
        "**What assumption is required to analytically solve the eigenfunctions of an atom?**<br>\n",
        "**A.** The atom must contain only one positive charge at the nucleus (ie no neutrons) <br>\n",
        "**B.** Electron electron repulsions have to be neglected <br>\n",
        "**C.** The atom must be stationary <br>\n",
        "**D.** The number of Protons in the nucleus must not exceed a number of neutrons <br>\n",
        "**Answer:** B"
      ],
      "metadata": {
        "id": "MF__DyysriNa"
      }
    },
    {
      "cell_type": "markdown",
      "source": [
        "**12.**<br>\n",
        "**What is the relationship between energy levels in the simple harmonic oscillator (Where Alpha is some constant)**<br>\n",
        "**A.** $E_{n} = n^3 E_{n+1}$ <br>\n",
        "**B.** $E_{n} = n^2 E_{n+1}$ <br>\n",
        "**C.** $ E_{n}$$ =  E_{n+1}-\\alpha$  <br>\n",
        "**D.** $E_{n} = \\alpha\\sqrt{n} E_{n+1}$ <br>\n",
        "**E.** $E_{n} = \\frac{E_{n+1}}{\\sqrt{n}}$ <br>\n",
        "**Answer:** C"
      ],
      "metadata": {
        "id": "TgUnrU-ze3hF"
      }
    },
    {
      "cell_type": "markdown",
      "source": [
        "**13.**<br>\n",
        "**for** $ n_x=2$, $ n_y=2$, $ n_z=2$, $n_w=1$\n",
        "**How many degenerate states exist for a particle in a four dimensional cube**<br>\n",
        "**Answer:** 4"
      ],
      "metadata": {
        "id": "HOyC6OZUe3IP"
      }
    },
    {
      "cell_type": "markdown",
      "source": [
        "**14.**<br>\n",
        "**Why does this formula $E_n=\\frac{-13.6 ev}{n^\n",
        "2} $ that dictates the energy of an electron in the Bohr model at a specific energy level only depend on $n$ and not on any other quantum numbers? For example d and p orbitals can have the same n value while being non-degenerate, why?**<br>\n",
        "**A.**  When orbital's with different values of $l$ form bonds they become non degenerate but their normal atomic orbitals are degenerate?<br>\n",
        "**B.** The given formula does not take into account relativity and therefore only functions as an approximation <br>\n",
        "**C.** Electron electron interactions result in deviations from the given formula and therefore produce non degenerate orbitals with the same value of n <br>\n",
        "**D.** Because electron electron repulsion is ignored <br>\n",
        "\n",
        "**Answer:** C, D"
      ],
      "metadata": {
        "id": "VIqBy8MZe2ks"
      }
    },
    {
      "cell_type": "markdown",
      "source": [
        "**15.**<br>\n",
        "**This expression is sufficient to show that $\\hat{O}$ is a linear operator (True/False)**.  $\\hat{O}(af(x)+bg(y))=a\\hat{O}f(x)+b\\hat{O}g(y)$<br>\n",
        "**Answer:** True"
      ],
      "metadata": {
        "id": "XGdeOrQ9e2ag"
      }
    },
    {
      "cell_type": "markdown",
      "source": [
        "**16.**<br>\n",
        "**What is the power output by a 10 cm by 10 cm by 10 cm cube at 600 K (Assume the cube can be approximated by a perfect black body and answer in watts)**<br>\n",
        "**Answer:**440.9283148"
      ],
      "metadata": {
        "id": "Dz7Gbk6-e2RK"
      }
    },
    {
      "cell_type": "markdown",
      "source": [
        "**17.**<br>\n",
        "\n",
        "**Which of the following statements about Hermitian operators and observables in quantum mechanics are correct?**<br>\n",
        "\n",
        "**A.** The expectation value of a Hermitian operator is always real, regardless of whether the wavefunction is normalized.<br>\n",
        "**B.** All Hermitian operators correspond to quantum-mechanical observables, and all observables must be Hermitian. <br>\n",
        "**C.** The eigenvalues of a Hermitian operator must be real, and eigenfunctions corresponding to distinct eigenvalues are always orthogonal. <br>\n",
        "**D.** Hermitian operators can always be diagonalized in an orthonormal basis.<br>\n",
        "**E.** A classical observable always has a unique quantum-mechanical Hermitian counterpart.\n",
        "\n",
        "**Answer:** A,C,D"
      ],
      "metadata": {
        "id": "XunD-ewu3MyF"
      }
    },
    {
      "cell_type": "markdown",
      "source": [
        "**18.**<br>\n",
        "\n",
        "**Which of the following statements are consistent with the postulates of quantum mechanics and the Born interpretation?**<br>\n",
        "\n",
        "**A.** Upon measurement of an observable, the system collapses to an eigenstate of the corresponding Hermitian operator.<br>\n",
        "**B.** The wavefunction $ |Ψ(x,t)|^2 $ gives the probability that a particle has energy E at position X. <br>\n",
        "**C.** The probability of obtaining an eigenvalue $ a_n$ when measuring observable $\\hat{A}$ is given by $ |<a_n|Ψ>|^2$ <br>\n",
        "**D.** The overlap integral $⟨ϕ∣Ψ⟩$ is always real if both $ϕ$ and $Ψ$ are normalized.<br>\n",
        "**E.** After measuring a particle’s position exactly, its momentum becomes completely defined.\n",
        "\n",
        "**Answer:** A, C"
      ],
      "metadata": {
        "id": "M7ghjOS2z9AD"
      }
    }
  ],
  "metadata": {
    "interpreter": {
      "hash": "8867fa4a874d625ac151e80518eaa96dde9c32243951e64c9d5c087633ad9a9a"
    },
    "kernelspec": {
      "display_name": "Python 3 (ipykernel)",
      "language": "python",
      "name": "python3"
    },
    "language_info": {
      "codemirror_mode": {
        "name": "ipython",
        "version": 3
      },
      "file_extension": ".py",
      "mimetype": "text/x-python",
      "name": "python",
      "nbconvert_exporter": "python",
      "pygments_lexer": "ipython3",
      "version": "3.9.7"
    },
    "colab": {
      "provenance": []
    }
  },
  "nbformat": 4,
  "nbformat_minor": 0
}